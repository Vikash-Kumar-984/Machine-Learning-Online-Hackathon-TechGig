{
  "nbformat": 4,
  "nbformat_minor": 0,
  "metadata": {
    "colab": {
      "name": "Machine Learning TechGig.ipynb",
      "provenance": [],
      "collapsed_sections": []
    },
    "kernelspec": {
      "name": "python3",
      "display_name": "Python 3"
    },
    "language_info": {
      "name": "python"
    }
  },
  "cells": [
    {
      "cell_type": "markdown",
      "source": [
        "**Team Tors** | **Machine Learning Hackathon** \n",
        "\n",
        "~ Vikash Kumar"
      ],
      "metadata": {
        "id": "FsDk7e65fKqc"
      }
    },
    {
      "cell_type": "markdown",
      "source": [
        "**Importing the libraries**"
      ],
      "metadata": {
        "id": "a469f-qoqqvA"
      }
    },
    {
      "cell_type": "code",
      "execution_count": 1,
      "metadata": {
        "id": "so3eZue3po2_"
      },
      "outputs": [],
      "source": [
        "import numpy as np\n",
        "import pandas as pd\n",
        "from sklearn.preprocessing import StandardScaler\n",
        "from sklearn.model_selection import train_test_split\n",
        "from sklearn import svm \n",
        "from sklearn.metrics import accuracy_score"
      ]
    },
    {
      "cell_type": "code",
      "source": [
        "#loading the dataset to pandas dataframe\n",
        "phising_dataset = pd.read_csv('/content/Phising_Training_Dataset.csv')"
      ],
      "metadata": {
        "id": "0GfZsiLUqvvp"
      },
      "execution_count": 2,
      "outputs": []
    },
    {
      "cell_type": "code",
      "source": [
        "#To get knowledge about the packages\n",
        "pd.read_csv?"
      ],
      "metadata": {
        "id": "hghlXaGPrDI9"
      },
      "execution_count": 3,
      "outputs": []
    },
    {
      "cell_type": "code",
      "source": [
        "#Printing the first 5 rows of the dataset\n",
        "phising_dataset.head()"
      ],
      "metadata": {
        "colab": {
          "base_uri": "https://localhost:8080/",
          "height": 299
        },
        "id": "gCXjvd8HrF9V",
        "outputId": "7425da92-1734-4964-a5f6-2d439b9f9a59"
      },
      "execution_count": 4,
      "outputs": [
        {
          "output_type": "execute_result",
          "data": {
            "text/plain": [
              "     key  having_IP  URL_Length  Shortining_Service  having_At_Symbol  \\\n",
              "0  12344         -1           1                   1                 1   \n",
              "1  12345          1           1                   1                 1   \n",
              "2  12346          1           0                   1                 1   \n",
              "3  12347          1           0                   1                 1   \n",
              "4  12348          1           0                  -1                 1   \n",
              "\n",
              "   double_slash_redirecting  Prefix_Suffix  having_Sub_Domain  SSLfinal_State  \\\n",
              "0                        -1             -1                 -1              -1   \n",
              "1                         1             -1                  0               1   \n",
              "2                         1             -1                 -1              -1   \n",
              "3                         1             -1                 -1              -1   \n",
              "4                         1             -1                  1               1   \n",
              "\n",
              "   Domain_registeration_length  ...  popUpWidnow  Iframe  age_of_domain  \\\n",
              "0                           -1  ...            1       1             -1   \n",
              "1                           -1  ...            1       1             -1   \n",
              "2                           -1  ...            1       1              1   \n",
              "3                            1  ...            1       1             -1   \n",
              "4                           -1  ...           -1       1             -1   \n",
              "\n",
              "   DNSRecord  web_traffic  Page_Rank  Google_Index  Links_pointing_to_page  \\\n",
              "0         -1           -1         -1             1                       1   \n",
              "1         -1            0         -1             1                       1   \n",
              "2         -1            1         -1             1                       0   \n",
              "3         -1            1         -1             1                      -1   \n",
              "4         -1            0         -1             1                       1   \n",
              "\n",
              "   Statistical_report  Result  \n",
              "0                  -1      -1  \n",
              "1                   1      -1  \n",
              "2                  -1      -1  \n",
              "3                   1      -1  \n",
              "4                   1       1  \n",
              "\n",
              "[5 rows x 32 columns]"
            ],
            "text/html": [
              "\n",
              "  <div id=\"df-480bebe3-9229-430d-94e3-f19f4e782e96\">\n",
              "    <div class=\"colab-df-container\">\n",
              "      <div>\n",
              "<style scoped>\n",
              "    .dataframe tbody tr th:only-of-type {\n",
              "        vertical-align: middle;\n",
              "    }\n",
              "\n",
              "    .dataframe tbody tr th {\n",
              "        vertical-align: top;\n",
              "    }\n",
              "\n",
              "    .dataframe thead th {\n",
              "        text-align: right;\n",
              "    }\n",
              "</style>\n",
              "<table border=\"1\" class=\"dataframe\">\n",
              "  <thead>\n",
              "    <tr style=\"text-align: right;\">\n",
              "      <th></th>\n",
              "      <th>key</th>\n",
              "      <th>having_IP</th>\n",
              "      <th>URL_Length</th>\n",
              "      <th>Shortining_Service</th>\n",
              "      <th>having_At_Symbol</th>\n",
              "      <th>double_slash_redirecting</th>\n",
              "      <th>Prefix_Suffix</th>\n",
              "      <th>having_Sub_Domain</th>\n",
              "      <th>SSLfinal_State</th>\n",
              "      <th>Domain_registeration_length</th>\n",
              "      <th>...</th>\n",
              "      <th>popUpWidnow</th>\n",
              "      <th>Iframe</th>\n",
              "      <th>age_of_domain</th>\n",
              "      <th>DNSRecord</th>\n",
              "      <th>web_traffic</th>\n",
              "      <th>Page_Rank</th>\n",
              "      <th>Google_Index</th>\n",
              "      <th>Links_pointing_to_page</th>\n",
              "      <th>Statistical_report</th>\n",
              "      <th>Result</th>\n",
              "    </tr>\n",
              "  </thead>\n",
              "  <tbody>\n",
              "    <tr>\n",
              "      <th>0</th>\n",
              "      <td>12344</td>\n",
              "      <td>-1</td>\n",
              "      <td>1</td>\n",
              "      <td>1</td>\n",
              "      <td>1</td>\n",
              "      <td>-1</td>\n",
              "      <td>-1</td>\n",
              "      <td>-1</td>\n",
              "      <td>-1</td>\n",
              "      <td>-1</td>\n",
              "      <td>...</td>\n",
              "      <td>1</td>\n",
              "      <td>1</td>\n",
              "      <td>-1</td>\n",
              "      <td>-1</td>\n",
              "      <td>-1</td>\n",
              "      <td>-1</td>\n",
              "      <td>1</td>\n",
              "      <td>1</td>\n",
              "      <td>-1</td>\n",
              "      <td>-1</td>\n",
              "    </tr>\n",
              "    <tr>\n",
              "      <th>1</th>\n",
              "      <td>12345</td>\n",
              "      <td>1</td>\n",
              "      <td>1</td>\n",
              "      <td>1</td>\n",
              "      <td>1</td>\n",
              "      <td>1</td>\n",
              "      <td>-1</td>\n",
              "      <td>0</td>\n",
              "      <td>1</td>\n",
              "      <td>-1</td>\n",
              "      <td>...</td>\n",
              "      <td>1</td>\n",
              "      <td>1</td>\n",
              "      <td>-1</td>\n",
              "      <td>-1</td>\n",
              "      <td>0</td>\n",
              "      <td>-1</td>\n",
              "      <td>1</td>\n",
              "      <td>1</td>\n",
              "      <td>1</td>\n",
              "      <td>-1</td>\n",
              "    </tr>\n",
              "    <tr>\n",
              "      <th>2</th>\n",
              "      <td>12346</td>\n",
              "      <td>1</td>\n",
              "      <td>0</td>\n",
              "      <td>1</td>\n",
              "      <td>1</td>\n",
              "      <td>1</td>\n",
              "      <td>-1</td>\n",
              "      <td>-1</td>\n",
              "      <td>-1</td>\n",
              "      <td>-1</td>\n",
              "      <td>...</td>\n",
              "      <td>1</td>\n",
              "      <td>1</td>\n",
              "      <td>1</td>\n",
              "      <td>-1</td>\n",
              "      <td>1</td>\n",
              "      <td>-1</td>\n",
              "      <td>1</td>\n",
              "      <td>0</td>\n",
              "      <td>-1</td>\n",
              "      <td>-1</td>\n",
              "    </tr>\n",
              "    <tr>\n",
              "      <th>3</th>\n",
              "      <td>12347</td>\n",
              "      <td>1</td>\n",
              "      <td>0</td>\n",
              "      <td>1</td>\n",
              "      <td>1</td>\n",
              "      <td>1</td>\n",
              "      <td>-1</td>\n",
              "      <td>-1</td>\n",
              "      <td>-1</td>\n",
              "      <td>1</td>\n",
              "      <td>...</td>\n",
              "      <td>1</td>\n",
              "      <td>1</td>\n",
              "      <td>-1</td>\n",
              "      <td>-1</td>\n",
              "      <td>1</td>\n",
              "      <td>-1</td>\n",
              "      <td>1</td>\n",
              "      <td>-1</td>\n",
              "      <td>1</td>\n",
              "      <td>-1</td>\n",
              "    </tr>\n",
              "    <tr>\n",
              "      <th>4</th>\n",
              "      <td>12348</td>\n",
              "      <td>1</td>\n",
              "      <td>0</td>\n",
              "      <td>-1</td>\n",
              "      <td>1</td>\n",
              "      <td>1</td>\n",
              "      <td>-1</td>\n",
              "      <td>1</td>\n",
              "      <td>1</td>\n",
              "      <td>-1</td>\n",
              "      <td>...</td>\n",
              "      <td>-1</td>\n",
              "      <td>1</td>\n",
              "      <td>-1</td>\n",
              "      <td>-1</td>\n",
              "      <td>0</td>\n",
              "      <td>-1</td>\n",
              "      <td>1</td>\n",
              "      <td>1</td>\n",
              "      <td>1</td>\n",
              "      <td>1</td>\n",
              "    </tr>\n",
              "  </tbody>\n",
              "</table>\n",
              "<p>5 rows × 32 columns</p>\n",
              "</div>\n",
              "      <button class=\"colab-df-convert\" onclick=\"convertToInteractive('df-480bebe3-9229-430d-94e3-f19f4e782e96')\"\n",
              "              title=\"Convert this dataframe to an interactive table.\"\n",
              "              style=\"display:none;\">\n",
              "        \n",
              "  <svg xmlns=\"http://www.w3.org/2000/svg\" height=\"24px\"viewBox=\"0 0 24 24\"\n",
              "       width=\"24px\">\n",
              "    <path d=\"M0 0h24v24H0V0z\" fill=\"none\"/>\n",
              "    <path d=\"M18.56 5.44l.94 2.06.94-2.06 2.06-.94-2.06-.94-.94-2.06-.94 2.06-2.06.94zm-11 1L8.5 8.5l.94-2.06 2.06-.94-2.06-.94L8.5 2.5l-.94 2.06-2.06.94zm10 10l.94 2.06.94-2.06 2.06-.94-2.06-.94-.94-2.06-.94 2.06-2.06.94z\"/><path d=\"M17.41 7.96l-1.37-1.37c-.4-.4-.92-.59-1.43-.59-.52 0-1.04.2-1.43.59L10.3 9.45l-7.72 7.72c-.78.78-.78 2.05 0 2.83L4 21.41c.39.39.9.59 1.41.59.51 0 1.02-.2 1.41-.59l7.78-7.78 2.81-2.81c.8-.78.8-2.07 0-2.86zM5.41 20L4 18.59l7.72-7.72 1.47 1.35L5.41 20z\"/>\n",
              "  </svg>\n",
              "      </button>\n",
              "      \n",
              "  <style>\n",
              "    .colab-df-container {\n",
              "      display:flex;\n",
              "      flex-wrap:wrap;\n",
              "      gap: 12px;\n",
              "    }\n",
              "\n",
              "    .colab-df-convert {\n",
              "      background-color: #E8F0FE;\n",
              "      border: none;\n",
              "      border-radius: 50%;\n",
              "      cursor: pointer;\n",
              "      display: none;\n",
              "      fill: #1967D2;\n",
              "      height: 32px;\n",
              "      padding: 0 0 0 0;\n",
              "      width: 32px;\n",
              "    }\n",
              "\n",
              "    .colab-df-convert:hover {\n",
              "      background-color: #E2EBFA;\n",
              "      box-shadow: 0px 1px 2px rgba(60, 64, 67, 0.3), 0px 1px 3px 1px rgba(60, 64, 67, 0.15);\n",
              "      fill: #174EA6;\n",
              "    }\n",
              "\n",
              "    [theme=dark] .colab-df-convert {\n",
              "      background-color: #3B4455;\n",
              "      fill: #D2E3FC;\n",
              "    }\n",
              "\n",
              "    [theme=dark] .colab-df-convert:hover {\n",
              "      background-color: #434B5C;\n",
              "      box-shadow: 0px 1px 3px 1px rgba(0, 0, 0, 0.15);\n",
              "      filter: drop-shadow(0px 1px 2px rgba(0, 0, 0, 0.3));\n",
              "      fill: #FFFFFF;\n",
              "    }\n",
              "  </style>\n",
              "\n",
              "      <script>\n",
              "        const buttonEl =\n",
              "          document.querySelector('#df-480bebe3-9229-430d-94e3-f19f4e782e96 button.colab-df-convert');\n",
              "        buttonEl.style.display =\n",
              "          google.colab.kernel.accessAllowed ? 'block' : 'none';\n",
              "\n",
              "        async function convertToInteractive(key) {\n",
              "          const element = document.querySelector('#df-480bebe3-9229-430d-94e3-f19f4e782e96');\n",
              "          const dataTable =\n",
              "            await google.colab.kernel.invokeFunction('convertToInteractive',\n",
              "                                                     [key], {});\n",
              "          if (!dataTable) return;\n",
              "\n",
              "          const docLinkHtml = 'Like what you see? Visit the ' +\n",
              "            '<a target=\"_blank\" href=https://colab.research.google.com/notebooks/data_table.ipynb>data table notebook</a>'\n",
              "            + ' to learn more about interactive tables.';\n",
              "          element.innerHTML = '';\n",
              "          dataTable['output_type'] = 'display_data';\n",
              "          await google.colab.output.renderOutput(dataTable, element);\n",
              "          const docLink = document.createElement('div');\n",
              "          docLink.innerHTML = docLinkHtml;\n",
              "          element.appendChild(docLink);\n",
              "        }\n",
              "      </script>\n",
              "    </div>\n",
              "  </div>\n",
              "  "
            ]
          },
          "metadata": {},
          "execution_count": 4
        }
      ]
    },
    {
      "cell_type": "code",
      "source": [
        "#Total number of rows and columns in the dataset\n",
        "phising_dataset.shape"
      ],
      "metadata": {
        "colab": {
          "base_uri": "https://localhost:8080/"
        },
        "id": "SKOL66QcrJRj",
        "outputId": "faac7f9c-8fcb-45ba-9031-2d09f6025717"
      },
      "execution_count": 5,
      "outputs": [
        {
          "output_type": "execute_result",
          "data": {
            "text/plain": [
              "(8955, 32)"
            ]
          },
          "metadata": {},
          "execution_count": 5
        }
      ]
    },
    {
      "cell_type": "code",
      "source": [
        "#Statistical analysis of the dataset\n",
        "phising_dataset.describe()"
      ],
      "metadata": {
        "colab": {
          "base_uri": "https://localhost:8080/",
          "height": 393
        },
        "id": "g5uN776HrLKM",
        "outputId": "b71a5845-d967-4a61-a761-6b519cd5685b"
      },
      "execution_count": 6,
      "outputs": [
        {
          "output_type": "execute_result",
          "data": {
            "text/plain": [
              "                key    having_IP   URL_Length  Shortining_Service  \\\n",
              "count   8955.000000  8955.000000  8955.000000         8955.000000   \n",
              "mean   16821.000000     0.307203    -0.635734            0.740480   \n",
              "std     2585.230164     0.951697     0.763660            0.672116   \n",
              "min    12344.000000    -1.000000    -1.000000           -1.000000   \n",
              "25%    14582.500000    -1.000000    -1.000000            1.000000   \n",
              "50%    16821.000000     1.000000    -1.000000            1.000000   \n",
              "75%    19059.500000     1.000000    -1.000000            1.000000   \n",
              "max    21298.000000     1.000000     1.000000            1.000000   \n",
              "\n",
              "       having_At_Symbol  double_slash_redirecting  Prefix_Suffix  \\\n",
              "count       8955.000000               8955.000000    8955.000000   \n",
              "mean           0.709436                  0.740704      -0.735343   \n",
              "std            0.704809                  0.671870       0.677733   \n",
              "min           -1.000000                 -1.000000      -1.000000   \n",
              "25%            1.000000                  1.000000      -1.000000   \n",
              "50%            1.000000                  1.000000      -1.000000   \n",
              "75%            1.000000                  1.000000      -1.000000   \n",
              "max            1.000000                  1.000000       1.000000   \n",
              "\n",
              "       having_Sub_Domain  SSLfinal_State  Domain_registeration_length  ...  \\\n",
              "count        8955.000000     8955.000000                   8955.00000  ...   \n",
              "mean            0.071803        0.264545                     -0.33646  ...   \n",
              "std             0.817419        0.908003                      0.94175  ...   \n",
              "min            -1.000000       -1.000000                     -1.00000  ...   \n",
              "25%            -1.000000       -1.000000                     -1.00000  ...   \n",
              "50%             0.000000        1.000000                     -1.00000  ...   \n",
              "75%             1.000000        1.000000                      1.00000  ...   \n",
              "max             1.000000        1.000000                      1.00000  ...   \n",
              "\n",
              "       popUpWidnow       Iframe  age_of_domain    DNSRecord  web_traffic  \\\n",
              "count  8955.000000  8955.000000    8955.000000  8955.000000  8955.000000   \n",
              "mean      0.606700     0.829816       0.028922     0.371078     0.291792   \n",
              "std       0.794975     0.558069       0.999637     0.928654     0.825557   \n",
              "min      -1.000000    -1.000000      -1.000000    -1.000000    -1.000000   \n",
              "25%       1.000000     1.000000      -1.000000    -1.000000     0.000000   \n",
              "50%       1.000000     1.000000       1.000000     1.000000     1.000000   \n",
              "75%       1.000000     1.000000       1.000000     1.000000     1.000000   \n",
              "max       1.000000     1.000000       1.000000     1.000000     1.000000   \n",
              "\n",
              "         Page_Rank  Google_Index  Links_pointing_to_page  Statistical_report  \\\n",
              "count  8955.000000   8955.000000             8955.000000         8955.000000   \n",
              "mean     -0.479397      0.712339                0.338582            0.728867   \n",
              "std       0.877647      0.701874                0.576068            0.684694   \n",
              "min      -1.000000     -1.000000               -1.000000           -1.000000   \n",
              "25%      -1.000000      1.000000                0.000000            1.000000   \n",
              "50%      -1.000000      1.000000                0.000000            1.000000   \n",
              "75%       1.000000      1.000000                1.000000            1.000000   \n",
              "max       1.000000      1.000000                1.000000            1.000000   \n",
              "\n",
              "            Result  \n",
              "count  8955.000000  \n",
              "mean      0.124288  \n",
              "std       0.992302  \n",
              "min      -1.000000  \n",
              "25%      -1.000000  \n",
              "50%       1.000000  \n",
              "75%       1.000000  \n",
              "max       1.000000  \n",
              "\n",
              "[8 rows x 32 columns]"
            ],
            "text/html": [
              "\n",
              "  <div id=\"df-a5abbc19-be2a-4cc2-83e7-099498368afa\">\n",
              "    <div class=\"colab-df-container\">\n",
              "      <div>\n",
              "<style scoped>\n",
              "    .dataframe tbody tr th:only-of-type {\n",
              "        vertical-align: middle;\n",
              "    }\n",
              "\n",
              "    .dataframe tbody tr th {\n",
              "        vertical-align: top;\n",
              "    }\n",
              "\n",
              "    .dataframe thead th {\n",
              "        text-align: right;\n",
              "    }\n",
              "</style>\n",
              "<table border=\"1\" class=\"dataframe\">\n",
              "  <thead>\n",
              "    <tr style=\"text-align: right;\">\n",
              "      <th></th>\n",
              "      <th>key</th>\n",
              "      <th>having_IP</th>\n",
              "      <th>URL_Length</th>\n",
              "      <th>Shortining_Service</th>\n",
              "      <th>having_At_Symbol</th>\n",
              "      <th>double_slash_redirecting</th>\n",
              "      <th>Prefix_Suffix</th>\n",
              "      <th>having_Sub_Domain</th>\n",
              "      <th>SSLfinal_State</th>\n",
              "      <th>Domain_registeration_length</th>\n",
              "      <th>...</th>\n",
              "      <th>popUpWidnow</th>\n",
              "      <th>Iframe</th>\n",
              "      <th>age_of_domain</th>\n",
              "      <th>DNSRecord</th>\n",
              "      <th>web_traffic</th>\n",
              "      <th>Page_Rank</th>\n",
              "      <th>Google_Index</th>\n",
              "      <th>Links_pointing_to_page</th>\n",
              "      <th>Statistical_report</th>\n",
              "      <th>Result</th>\n",
              "    </tr>\n",
              "  </thead>\n",
              "  <tbody>\n",
              "    <tr>\n",
              "      <th>count</th>\n",
              "      <td>8955.000000</td>\n",
              "      <td>8955.000000</td>\n",
              "      <td>8955.000000</td>\n",
              "      <td>8955.000000</td>\n",
              "      <td>8955.000000</td>\n",
              "      <td>8955.000000</td>\n",
              "      <td>8955.000000</td>\n",
              "      <td>8955.000000</td>\n",
              "      <td>8955.000000</td>\n",
              "      <td>8955.00000</td>\n",
              "      <td>...</td>\n",
              "      <td>8955.000000</td>\n",
              "      <td>8955.000000</td>\n",
              "      <td>8955.000000</td>\n",
              "      <td>8955.000000</td>\n",
              "      <td>8955.000000</td>\n",
              "      <td>8955.000000</td>\n",
              "      <td>8955.000000</td>\n",
              "      <td>8955.000000</td>\n",
              "      <td>8955.000000</td>\n",
              "      <td>8955.000000</td>\n",
              "    </tr>\n",
              "    <tr>\n",
              "      <th>mean</th>\n",
              "      <td>16821.000000</td>\n",
              "      <td>0.307203</td>\n",
              "      <td>-0.635734</td>\n",
              "      <td>0.740480</td>\n",
              "      <td>0.709436</td>\n",
              "      <td>0.740704</td>\n",
              "      <td>-0.735343</td>\n",
              "      <td>0.071803</td>\n",
              "      <td>0.264545</td>\n",
              "      <td>-0.33646</td>\n",
              "      <td>...</td>\n",
              "      <td>0.606700</td>\n",
              "      <td>0.829816</td>\n",
              "      <td>0.028922</td>\n",
              "      <td>0.371078</td>\n",
              "      <td>0.291792</td>\n",
              "      <td>-0.479397</td>\n",
              "      <td>0.712339</td>\n",
              "      <td>0.338582</td>\n",
              "      <td>0.728867</td>\n",
              "      <td>0.124288</td>\n",
              "    </tr>\n",
              "    <tr>\n",
              "      <th>std</th>\n",
              "      <td>2585.230164</td>\n",
              "      <td>0.951697</td>\n",
              "      <td>0.763660</td>\n",
              "      <td>0.672116</td>\n",
              "      <td>0.704809</td>\n",
              "      <td>0.671870</td>\n",
              "      <td>0.677733</td>\n",
              "      <td>0.817419</td>\n",
              "      <td>0.908003</td>\n",
              "      <td>0.94175</td>\n",
              "      <td>...</td>\n",
              "      <td>0.794975</td>\n",
              "      <td>0.558069</td>\n",
              "      <td>0.999637</td>\n",
              "      <td>0.928654</td>\n",
              "      <td>0.825557</td>\n",
              "      <td>0.877647</td>\n",
              "      <td>0.701874</td>\n",
              "      <td>0.576068</td>\n",
              "      <td>0.684694</td>\n",
              "      <td>0.992302</td>\n",
              "    </tr>\n",
              "    <tr>\n",
              "      <th>min</th>\n",
              "      <td>12344.000000</td>\n",
              "      <td>-1.000000</td>\n",
              "      <td>-1.000000</td>\n",
              "      <td>-1.000000</td>\n",
              "      <td>-1.000000</td>\n",
              "      <td>-1.000000</td>\n",
              "      <td>-1.000000</td>\n",
              "      <td>-1.000000</td>\n",
              "      <td>-1.000000</td>\n",
              "      <td>-1.00000</td>\n",
              "      <td>...</td>\n",
              "      <td>-1.000000</td>\n",
              "      <td>-1.000000</td>\n",
              "      <td>-1.000000</td>\n",
              "      <td>-1.000000</td>\n",
              "      <td>-1.000000</td>\n",
              "      <td>-1.000000</td>\n",
              "      <td>-1.000000</td>\n",
              "      <td>-1.000000</td>\n",
              "      <td>-1.000000</td>\n",
              "      <td>-1.000000</td>\n",
              "    </tr>\n",
              "    <tr>\n",
              "      <th>25%</th>\n",
              "      <td>14582.500000</td>\n",
              "      <td>-1.000000</td>\n",
              "      <td>-1.000000</td>\n",
              "      <td>1.000000</td>\n",
              "      <td>1.000000</td>\n",
              "      <td>1.000000</td>\n",
              "      <td>-1.000000</td>\n",
              "      <td>-1.000000</td>\n",
              "      <td>-1.000000</td>\n",
              "      <td>-1.00000</td>\n",
              "      <td>...</td>\n",
              "      <td>1.000000</td>\n",
              "      <td>1.000000</td>\n",
              "      <td>-1.000000</td>\n",
              "      <td>-1.000000</td>\n",
              "      <td>0.000000</td>\n",
              "      <td>-1.000000</td>\n",
              "      <td>1.000000</td>\n",
              "      <td>0.000000</td>\n",
              "      <td>1.000000</td>\n",
              "      <td>-1.000000</td>\n",
              "    </tr>\n",
              "    <tr>\n",
              "      <th>50%</th>\n",
              "      <td>16821.000000</td>\n",
              "      <td>1.000000</td>\n",
              "      <td>-1.000000</td>\n",
              "      <td>1.000000</td>\n",
              "      <td>1.000000</td>\n",
              "      <td>1.000000</td>\n",
              "      <td>-1.000000</td>\n",
              "      <td>0.000000</td>\n",
              "      <td>1.000000</td>\n",
              "      <td>-1.00000</td>\n",
              "      <td>...</td>\n",
              "      <td>1.000000</td>\n",
              "      <td>1.000000</td>\n",
              "      <td>1.000000</td>\n",
              "      <td>1.000000</td>\n",
              "      <td>1.000000</td>\n",
              "      <td>-1.000000</td>\n",
              "      <td>1.000000</td>\n",
              "      <td>0.000000</td>\n",
              "      <td>1.000000</td>\n",
              "      <td>1.000000</td>\n",
              "    </tr>\n",
              "    <tr>\n",
              "      <th>75%</th>\n",
              "      <td>19059.500000</td>\n",
              "      <td>1.000000</td>\n",
              "      <td>-1.000000</td>\n",
              "      <td>1.000000</td>\n",
              "      <td>1.000000</td>\n",
              "      <td>1.000000</td>\n",
              "      <td>-1.000000</td>\n",
              "      <td>1.000000</td>\n",
              "      <td>1.000000</td>\n",
              "      <td>1.00000</td>\n",
              "      <td>...</td>\n",
              "      <td>1.000000</td>\n",
              "      <td>1.000000</td>\n",
              "      <td>1.000000</td>\n",
              "      <td>1.000000</td>\n",
              "      <td>1.000000</td>\n",
              "      <td>1.000000</td>\n",
              "      <td>1.000000</td>\n",
              "      <td>1.000000</td>\n",
              "      <td>1.000000</td>\n",
              "      <td>1.000000</td>\n",
              "    </tr>\n",
              "    <tr>\n",
              "      <th>max</th>\n",
              "      <td>21298.000000</td>\n",
              "      <td>1.000000</td>\n",
              "      <td>1.000000</td>\n",
              "      <td>1.000000</td>\n",
              "      <td>1.000000</td>\n",
              "      <td>1.000000</td>\n",
              "      <td>1.000000</td>\n",
              "      <td>1.000000</td>\n",
              "      <td>1.000000</td>\n",
              "      <td>1.00000</td>\n",
              "      <td>...</td>\n",
              "      <td>1.000000</td>\n",
              "      <td>1.000000</td>\n",
              "      <td>1.000000</td>\n",
              "      <td>1.000000</td>\n",
              "      <td>1.000000</td>\n",
              "      <td>1.000000</td>\n",
              "      <td>1.000000</td>\n",
              "      <td>1.000000</td>\n",
              "      <td>1.000000</td>\n",
              "      <td>1.000000</td>\n",
              "    </tr>\n",
              "  </tbody>\n",
              "</table>\n",
              "<p>8 rows × 32 columns</p>\n",
              "</div>\n",
              "      <button class=\"colab-df-convert\" onclick=\"convertToInteractive('df-a5abbc19-be2a-4cc2-83e7-099498368afa')\"\n",
              "              title=\"Convert this dataframe to an interactive table.\"\n",
              "              style=\"display:none;\">\n",
              "        \n",
              "  <svg xmlns=\"http://www.w3.org/2000/svg\" height=\"24px\"viewBox=\"0 0 24 24\"\n",
              "       width=\"24px\">\n",
              "    <path d=\"M0 0h24v24H0V0z\" fill=\"none\"/>\n",
              "    <path d=\"M18.56 5.44l.94 2.06.94-2.06 2.06-.94-2.06-.94-.94-2.06-.94 2.06-2.06.94zm-11 1L8.5 8.5l.94-2.06 2.06-.94-2.06-.94L8.5 2.5l-.94 2.06-2.06.94zm10 10l.94 2.06.94-2.06 2.06-.94-2.06-.94-.94-2.06-.94 2.06-2.06.94z\"/><path d=\"M17.41 7.96l-1.37-1.37c-.4-.4-.92-.59-1.43-.59-.52 0-1.04.2-1.43.59L10.3 9.45l-7.72 7.72c-.78.78-.78 2.05 0 2.83L4 21.41c.39.39.9.59 1.41.59.51 0 1.02-.2 1.41-.59l7.78-7.78 2.81-2.81c.8-.78.8-2.07 0-2.86zM5.41 20L4 18.59l7.72-7.72 1.47 1.35L5.41 20z\"/>\n",
              "  </svg>\n",
              "      </button>\n",
              "      \n",
              "  <style>\n",
              "    .colab-df-container {\n",
              "      display:flex;\n",
              "      flex-wrap:wrap;\n",
              "      gap: 12px;\n",
              "    }\n",
              "\n",
              "    .colab-df-convert {\n",
              "      background-color: #E8F0FE;\n",
              "      border: none;\n",
              "      border-radius: 50%;\n",
              "      cursor: pointer;\n",
              "      display: none;\n",
              "      fill: #1967D2;\n",
              "      height: 32px;\n",
              "      padding: 0 0 0 0;\n",
              "      width: 32px;\n",
              "    }\n",
              "\n",
              "    .colab-df-convert:hover {\n",
              "      background-color: #E2EBFA;\n",
              "      box-shadow: 0px 1px 2px rgba(60, 64, 67, 0.3), 0px 1px 3px 1px rgba(60, 64, 67, 0.15);\n",
              "      fill: #174EA6;\n",
              "    }\n",
              "\n",
              "    [theme=dark] .colab-df-convert {\n",
              "      background-color: #3B4455;\n",
              "      fill: #D2E3FC;\n",
              "    }\n",
              "\n",
              "    [theme=dark] .colab-df-convert:hover {\n",
              "      background-color: #434B5C;\n",
              "      box-shadow: 0px 1px 3px 1px rgba(0, 0, 0, 0.15);\n",
              "      filter: drop-shadow(0px 1px 2px rgba(0, 0, 0, 0.3));\n",
              "      fill: #FFFFFF;\n",
              "    }\n",
              "  </style>\n",
              "\n",
              "      <script>\n",
              "        const buttonEl =\n",
              "          document.querySelector('#df-a5abbc19-be2a-4cc2-83e7-099498368afa button.colab-df-convert');\n",
              "        buttonEl.style.display =\n",
              "          google.colab.kernel.accessAllowed ? 'block' : 'none';\n",
              "\n",
              "        async function convertToInteractive(key) {\n",
              "          const element = document.querySelector('#df-a5abbc19-be2a-4cc2-83e7-099498368afa');\n",
              "          const dataTable =\n",
              "            await google.colab.kernel.invokeFunction('convertToInteractive',\n",
              "                                                     [key], {});\n",
              "          if (!dataTable) return;\n",
              "\n",
              "          const docLinkHtml = 'Like what you see? Visit the ' +\n",
              "            '<a target=\"_blank\" href=https://colab.research.google.com/notebooks/data_table.ipynb>data table notebook</a>'\n",
              "            + ' to learn more about interactive tables.';\n",
              "          element.innerHTML = '';\n",
              "          dataTable['output_type'] = 'display_data';\n",
              "          await google.colab.output.renderOutput(dataTable, element);\n",
              "          const docLink = document.createElement('div');\n",
              "          docLink.innerHTML = docLinkHtml;\n",
              "          element.appendChild(docLink);\n",
              "        }\n",
              "      </script>\n",
              "    </div>\n",
              "  </div>\n",
              "  "
            ]
          },
          "metadata": {},
          "execution_count": 6
        }
      ]
    },
    {
      "cell_type": "code",
      "source": [
        "#Find the total values of 0 and 1 in outcome columns   0: Non Diabetes, 1:Diabetics\n",
        "phising_dataset['Result'].value_counts()"
      ],
      "metadata": {
        "colab": {
          "base_uri": "https://localhost:8080/"
        },
        "id": "d3HRx5sxrNK6",
        "outputId": "06b7624b-ceca-4dcf-f871-d98fbe8fb709"
      },
      "execution_count": 7,
      "outputs": [
        {
          "output_type": "execute_result",
          "data": {
            "text/plain": [
              " 1    5034\n",
              "-1    3921\n",
              "Name: Result, dtype: int64"
            ]
          },
          "metadata": {},
          "execution_count": 7
        }
      ]
    },
    {
      "cell_type": "code",
      "source": [
        "#Important to have understanding of the outcome statistics\n",
        "phising_dataset.groupby('Result').mean()"
      ],
      "metadata": {
        "colab": {
          "base_uri": "https://localhost:8080/",
          "height": 237
        },
        "id": "bi6Ai3NtrPmU",
        "outputId": "3678e23a-4a96-4a73-85f1-dd21e76f5748"
      },
      "execution_count": 8,
      "outputs": [
        {
          "output_type": "execute_result",
          "data": {
            "text/plain": [
              "                 key  having_IP  URL_Length  Shortining_Service  \\\n",
              "Result                                                            \n",
              "-1      16823.500638   0.205815   -0.687070            0.790870   \n",
              " 1      16819.052245   0.386174   -0.595749            0.701232   \n",
              "\n",
              "        having_At_Symbol  double_slash_redirecting  Prefix_Suffix  \\\n",
              "Result                                                              \n",
              "-1              0.669472                  0.769447      -1.000000   \n",
              " 1              0.740564                  0.718315      -0.529201   \n",
              "\n",
              "        having_Sub_Domain  SSLfinal_State  Domain_registeration_length  ...  \\\n",
              "Result                                                                  ...   \n",
              "-1              -0.203009       -0.468503                    -0.101760  ...   \n",
              " 1               0.285856        0.835518                    -0.519269  ...   \n",
              "\n",
              "        RightClick  popUpWidnow    Iframe  age_of_domain  DNSRecord  \\\n",
              "Result                                                                \n",
              "-1        0.917878     0.609283  0.838307      -0.124203   0.284876   \n",
              " 1        0.921732     0.604688  0.823202       0.148192   0.438220   \n",
              "\n",
              "        web_traffic  Page_Rank  Google_Index  Links_pointing_to_page  \\\n",
              "Result                                                                 \n",
              "-1        -0.040806  -0.581739      0.615404                0.315736   \n",
              " 1         0.550854  -0.399682      0.787843                0.356377   \n",
              "\n",
              "        Statistical_report  \n",
              "Result                      \n",
              "-1                0.676103  \n",
              " 1                0.769964  \n",
              "\n",
              "[2 rows x 31 columns]"
            ],
            "text/html": [
              "\n",
              "  <div id=\"df-3d4f4337-c9d5-4df4-a73f-b171c623f3b5\">\n",
              "    <div class=\"colab-df-container\">\n",
              "      <div>\n",
              "<style scoped>\n",
              "    .dataframe tbody tr th:only-of-type {\n",
              "        vertical-align: middle;\n",
              "    }\n",
              "\n",
              "    .dataframe tbody tr th {\n",
              "        vertical-align: top;\n",
              "    }\n",
              "\n",
              "    .dataframe thead th {\n",
              "        text-align: right;\n",
              "    }\n",
              "</style>\n",
              "<table border=\"1\" class=\"dataframe\">\n",
              "  <thead>\n",
              "    <tr style=\"text-align: right;\">\n",
              "      <th></th>\n",
              "      <th>key</th>\n",
              "      <th>having_IP</th>\n",
              "      <th>URL_Length</th>\n",
              "      <th>Shortining_Service</th>\n",
              "      <th>having_At_Symbol</th>\n",
              "      <th>double_slash_redirecting</th>\n",
              "      <th>Prefix_Suffix</th>\n",
              "      <th>having_Sub_Domain</th>\n",
              "      <th>SSLfinal_State</th>\n",
              "      <th>Domain_registeration_length</th>\n",
              "      <th>...</th>\n",
              "      <th>RightClick</th>\n",
              "      <th>popUpWidnow</th>\n",
              "      <th>Iframe</th>\n",
              "      <th>age_of_domain</th>\n",
              "      <th>DNSRecord</th>\n",
              "      <th>web_traffic</th>\n",
              "      <th>Page_Rank</th>\n",
              "      <th>Google_Index</th>\n",
              "      <th>Links_pointing_to_page</th>\n",
              "      <th>Statistical_report</th>\n",
              "    </tr>\n",
              "    <tr>\n",
              "      <th>Result</th>\n",
              "      <th></th>\n",
              "      <th></th>\n",
              "      <th></th>\n",
              "      <th></th>\n",
              "      <th></th>\n",
              "      <th></th>\n",
              "      <th></th>\n",
              "      <th></th>\n",
              "      <th></th>\n",
              "      <th></th>\n",
              "      <th></th>\n",
              "      <th></th>\n",
              "      <th></th>\n",
              "      <th></th>\n",
              "      <th></th>\n",
              "      <th></th>\n",
              "      <th></th>\n",
              "      <th></th>\n",
              "      <th></th>\n",
              "      <th></th>\n",
              "      <th></th>\n",
              "    </tr>\n",
              "  </thead>\n",
              "  <tbody>\n",
              "    <tr>\n",
              "      <th>-1</th>\n",
              "      <td>16823.500638</td>\n",
              "      <td>0.205815</td>\n",
              "      <td>-0.687070</td>\n",
              "      <td>0.790870</td>\n",
              "      <td>0.669472</td>\n",
              "      <td>0.769447</td>\n",
              "      <td>-1.000000</td>\n",
              "      <td>-0.203009</td>\n",
              "      <td>-0.468503</td>\n",
              "      <td>-0.101760</td>\n",
              "      <td>...</td>\n",
              "      <td>0.917878</td>\n",
              "      <td>0.609283</td>\n",
              "      <td>0.838307</td>\n",
              "      <td>-0.124203</td>\n",
              "      <td>0.284876</td>\n",
              "      <td>-0.040806</td>\n",
              "      <td>-0.581739</td>\n",
              "      <td>0.615404</td>\n",
              "      <td>0.315736</td>\n",
              "      <td>0.676103</td>\n",
              "    </tr>\n",
              "    <tr>\n",
              "      <th>1</th>\n",
              "      <td>16819.052245</td>\n",
              "      <td>0.386174</td>\n",
              "      <td>-0.595749</td>\n",
              "      <td>0.701232</td>\n",
              "      <td>0.740564</td>\n",
              "      <td>0.718315</td>\n",
              "      <td>-0.529201</td>\n",
              "      <td>0.285856</td>\n",
              "      <td>0.835518</td>\n",
              "      <td>-0.519269</td>\n",
              "      <td>...</td>\n",
              "      <td>0.921732</td>\n",
              "      <td>0.604688</td>\n",
              "      <td>0.823202</td>\n",
              "      <td>0.148192</td>\n",
              "      <td>0.438220</td>\n",
              "      <td>0.550854</td>\n",
              "      <td>-0.399682</td>\n",
              "      <td>0.787843</td>\n",
              "      <td>0.356377</td>\n",
              "      <td>0.769964</td>\n",
              "    </tr>\n",
              "  </tbody>\n",
              "</table>\n",
              "<p>2 rows × 31 columns</p>\n",
              "</div>\n",
              "      <button class=\"colab-df-convert\" onclick=\"convertToInteractive('df-3d4f4337-c9d5-4df4-a73f-b171c623f3b5')\"\n",
              "              title=\"Convert this dataframe to an interactive table.\"\n",
              "              style=\"display:none;\">\n",
              "        \n",
              "  <svg xmlns=\"http://www.w3.org/2000/svg\" height=\"24px\"viewBox=\"0 0 24 24\"\n",
              "       width=\"24px\">\n",
              "    <path d=\"M0 0h24v24H0V0z\" fill=\"none\"/>\n",
              "    <path d=\"M18.56 5.44l.94 2.06.94-2.06 2.06-.94-2.06-.94-.94-2.06-.94 2.06-2.06.94zm-11 1L8.5 8.5l.94-2.06 2.06-.94-2.06-.94L8.5 2.5l-.94 2.06-2.06.94zm10 10l.94 2.06.94-2.06 2.06-.94-2.06-.94-.94-2.06-.94 2.06-2.06.94z\"/><path d=\"M17.41 7.96l-1.37-1.37c-.4-.4-.92-.59-1.43-.59-.52 0-1.04.2-1.43.59L10.3 9.45l-7.72 7.72c-.78.78-.78 2.05 0 2.83L4 21.41c.39.39.9.59 1.41.59.51 0 1.02-.2 1.41-.59l7.78-7.78 2.81-2.81c.8-.78.8-2.07 0-2.86zM5.41 20L4 18.59l7.72-7.72 1.47 1.35L5.41 20z\"/>\n",
              "  </svg>\n",
              "      </button>\n",
              "      \n",
              "  <style>\n",
              "    .colab-df-container {\n",
              "      display:flex;\n",
              "      flex-wrap:wrap;\n",
              "      gap: 12px;\n",
              "    }\n",
              "\n",
              "    .colab-df-convert {\n",
              "      background-color: #E8F0FE;\n",
              "      border: none;\n",
              "      border-radius: 50%;\n",
              "      cursor: pointer;\n",
              "      display: none;\n",
              "      fill: #1967D2;\n",
              "      height: 32px;\n",
              "      padding: 0 0 0 0;\n",
              "      width: 32px;\n",
              "    }\n",
              "\n",
              "    .colab-df-convert:hover {\n",
              "      background-color: #E2EBFA;\n",
              "      box-shadow: 0px 1px 2px rgba(60, 64, 67, 0.3), 0px 1px 3px 1px rgba(60, 64, 67, 0.15);\n",
              "      fill: #174EA6;\n",
              "    }\n",
              "\n",
              "    [theme=dark] .colab-df-convert {\n",
              "      background-color: #3B4455;\n",
              "      fill: #D2E3FC;\n",
              "    }\n",
              "\n",
              "    [theme=dark] .colab-df-convert:hover {\n",
              "      background-color: #434B5C;\n",
              "      box-shadow: 0px 1px 3px 1px rgba(0, 0, 0, 0.15);\n",
              "      filter: drop-shadow(0px 1px 2px rgba(0, 0, 0, 0.3));\n",
              "      fill: #FFFFFF;\n",
              "    }\n",
              "  </style>\n",
              "\n",
              "      <script>\n",
              "        const buttonEl =\n",
              "          document.querySelector('#df-3d4f4337-c9d5-4df4-a73f-b171c623f3b5 button.colab-df-convert');\n",
              "        buttonEl.style.display =\n",
              "          google.colab.kernel.accessAllowed ? 'block' : 'none';\n",
              "\n",
              "        async function convertToInteractive(key) {\n",
              "          const element = document.querySelector('#df-3d4f4337-c9d5-4df4-a73f-b171c623f3b5');\n",
              "          const dataTable =\n",
              "            await google.colab.kernel.invokeFunction('convertToInteractive',\n",
              "                                                     [key], {});\n",
              "          if (!dataTable) return;\n",
              "\n",
              "          const docLinkHtml = 'Like what you see? Visit the ' +\n",
              "            '<a target=\"_blank\" href=https://colab.research.google.com/notebooks/data_table.ipynb>data table notebook</a>'\n",
              "            + ' to learn more about interactive tables.';\n",
              "          element.innerHTML = '';\n",
              "          dataTable['output_type'] = 'display_data';\n",
              "          await google.colab.output.renderOutput(dataTable, element);\n",
              "          const docLink = document.createElement('div');\n",
              "          docLink.innerHTML = docLinkHtml;\n",
              "          element.appendChild(docLink);\n",
              "        }\n",
              "      </script>\n",
              "    </div>\n",
              "  </div>\n",
              "  "
            ]
          },
          "metadata": {},
          "execution_count": 8
        }
      ]
    },
    {
      "cell_type": "code",
      "source": [
        "#Separating the data and levels\n",
        "X = phising_dataset.drop(columns = 'Result', axis=1)\n",
        "Y = phising_dataset['Result']"
      ],
      "metadata": {
        "id": "1ns4g8SRr9z5"
      },
      "execution_count": 9,
      "outputs": []
    },
    {
      "cell_type": "code",
      "source": [
        "print(X)"
      ],
      "metadata": {
        "colab": {
          "base_uri": "https://localhost:8080/"
        },
        "id": "g6vE_sJ7sE-R",
        "outputId": "41fc2a52-e38d-4076-c8ed-ca34d14cf790"
      },
      "execution_count": 10,
      "outputs": [
        {
          "output_type": "stream",
          "name": "stdout",
          "text": [
            "        key  having_IP  URL_Length  Shortining_Service  having_At_Symbol  \\\n",
            "0     12344         -1           1                   1                 1   \n",
            "1     12345          1           1                   1                 1   \n",
            "2     12346          1           0                   1                 1   \n",
            "3     12347          1           0                   1                 1   \n",
            "4     12348          1           0                  -1                 1   \n",
            "...     ...        ...         ...                 ...               ...   \n",
            "8950  21294          1          -1                   1                -1   \n",
            "8951  21295         -1           1                   1                -1   \n",
            "8952  21296          1          -1                   1                 1   \n",
            "8953  21297         -1          -1                   1                 1   \n",
            "8954  21298         -1          -1                   1                 1   \n",
            "\n",
            "      double_slash_redirecting  Prefix_Suffix  having_Sub_Domain  \\\n",
            "0                           -1             -1                 -1   \n",
            "1                            1             -1                  0   \n",
            "2                            1             -1                 -1   \n",
            "3                            1             -1                 -1   \n",
            "4                            1             -1                  1   \n",
            "...                        ...            ...                ...   \n",
            "8950                         1              1                  1   \n",
            "8951                        -1             -1                  1   \n",
            "8952                         1             -1                  1   \n",
            "8953                         1             -1                 -1   \n",
            "8954                         1             -1                 -1   \n",
            "\n",
            "      SSLfinal_State  Domain_registeration_length  ...  RightClick  \\\n",
            "0                 -1                           -1  ...           1   \n",
            "1                  1                           -1  ...           1   \n",
            "2                 -1                           -1  ...           1   \n",
            "3                 -1                            1  ...           1   \n",
            "4                  1                           -1  ...           1   \n",
            "...              ...                          ...  ...         ...   \n",
            "8950               1                           -1  ...          -1   \n",
            "8951              -1                           -1  ...           1   \n",
            "8952              -1                           -1  ...           1   \n",
            "8953              -1                            1  ...           1   \n",
            "8954              -1                            1  ...           1   \n",
            "\n",
            "      popUpWidnow  Iframe  age_of_domain  DNSRecord  web_traffic  Page_Rank  \\\n",
            "0               1       1             -1         -1           -1         -1   \n",
            "1               1       1             -1         -1            0         -1   \n",
            "2               1       1              1         -1            1         -1   \n",
            "3               1       1             -1         -1            1         -1   \n",
            "4              -1       1             -1         -1            0         -1   \n",
            "...           ...     ...            ...        ...          ...        ...   \n",
            "8950           -1      -1              1          1           -1         -1   \n",
            "8951           -1       1              1          1            1          1   \n",
            "8952            1       1              1          1            1         -1   \n",
            "8953           -1       1              1          1            1         -1   \n",
            "8954            1       1             -1          1           -1         -1   \n",
            "\n",
            "      Google_Index  Links_pointing_to_page  Statistical_report  \n",
            "0                1                       1                  -1  \n",
            "1                1                       1                   1  \n",
            "2                1                       0                  -1  \n",
            "3                1                      -1                   1  \n",
            "4                1                       1                   1  \n",
            "...            ...                     ...                 ...  \n",
            "8950             1                       1                   1  \n",
            "8951             1                      -1                   1  \n",
            "8952             1                       0                   1  \n",
            "8953             1                       1                   1  \n",
            "8954            -1                       1                  -1  \n",
            "\n",
            "[8955 rows x 31 columns]\n"
          ]
        }
      ]
    },
    {
      "cell_type": "code",
      "source": [
        "X.dtypes"
      ],
      "metadata": {
        "colab": {
          "base_uri": "https://localhost:8080/"
        },
        "id": "-eAnW9_U-VAO",
        "outputId": "92b6ce4a-ae05-4115-dbc2-7d83467eb392"
      },
      "execution_count": 11,
      "outputs": [
        {
          "output_type": "execute_result",
          "data": {
            "text/plain": [
              "key                            int64\n",
              "having_IP                      int64\n",
              "URL_Length                     int64\n",
              "Shortining_Service             int64\n",
              "having_At_Symbol               int64\n",
              "double_slash_redirecting       int64\n",
              "Prefix_Suffix                  int64\n",
              "having_Sub_Domain              int64\n",
              "SSLfinal_State                 int64\n",
              "Domain_registeration_length    int64\n",
              "Favicon                        int64\n",
              "port                           int64\n",
              "HTTPS_token                    int64\n",
              "Request_URL                    int64\n",
              "URL_of_Anchor                  int64\n",
              "Links_in_tags                  int64\n",
              "SFH                            int64\n",
              "Submitting_to_email            int64\n",
              "Abnormal_URL                   int64\n",
              "Redirect                       int64\n",
              "on_mouseover                   int64\n",
              "RightClick                     int64\n",
              "popUpWidnow                    int64\n",
              "Iframe                         int64\n",
              "age_of_domain                  int64\n",
              "DNSRecord                      int64\n",
              "web_traffic                    int64\n",
              "Page_Rank                      int64\n",
              "Google_Index                   int64\n",
              "Links_pointing_to_page         int64\n",
              "Statistical_report             int64\n",
              "dtype: object"
            ]
          },
          "metadata": {},
          "execution_count": 11
        }
      ]
    },
    {
      "cell_type": "code",
      "source": [
        "print(Y)"
      ],
      "metadata": {
        "colab": {
          "base_uri": "https://localhost:8080/"
        },
        "id": "y7ZRpBUcsH4T",
        "outputId": "ca357fe7-2047-4b53-d9ef-47f9d243e284"
      },
      "execution_count": 12,
      "outputs": [
        {
          "output_type": "stream",
          "name": "stdout",
          "text": [
            "0      -1\n",
            "1      -1\n",
            "2      -1\n",
            "3      -1\n",
            "4       1\n",
            "       ..\n",
            "8950    1\n",
            "8951   -1\n",
            "8952   -1\n",
            "8953   -1\n",
            "8954   -1\n",
            "Name: Result, Length: 8955, dtype: int64\n"
          ]
        }
      ]
    },
    {
      "cell_type": "markdown",
      "source": [
        "**Data Standarization**"
      ],
      "metadata": {
        "id": "Id7FXIwmsN97"
      }
    },
    {
      "cell_type": "code",
      "source": [
        "scaler = StandardScaler()"
      ],
      "metadata": {
        "id": "3xX7UvSosK_g"
      },
      "execution_count": 13,
      "outputs": []
    },
    {
      "cell_type": "code",
      "source": [
        "scaler.fit(X)"
      ],
      "metadata": {
        "colab": {
          "base_uri": "https://localhost:8080/"
        },
        "id": "o5j6eHqCsRzw",
        "outputId": "e61fe27b-5a97-45ce-b723-764abe42795c"
      },
      "execution_count": 14,
      "outputs": [
        {
          "output_type": "execute_result",
          "data": {
            "text/plain": [
              "StandardScaler()"
            ]
          },
          "metadata": {},
          "execution_count": 14
        }
      ]
    },
    {
      "cell_type": "code",
      "source": [
        "standarized_data = scaler.transform(X)"
      ],
      "metadata": {
        "id": "95Joj2kXsTte"
      },
      "execution_count": 15,
      "outputs": []
    },
    {
      "cell_type": "code",
      "source": [
        "print(standarized_data)"
      ],
      "metadata": {
        "colab": {
          "base_uri": "https://localhost:8080/"
        },
        "id": "GXUtql4csVmC",
        "outputId": "931e816f-725c-4982-8072-e278f1503e0f"
      },
      "execution_count": 16,
      "outputs": [
        {
          "output_type": "stream",
          "name": "stdout",
          "text": [
            "[[-1.7318574  -1.37362557  2.14208585 ...  0.40986912  1.14822479\n",
            "  -2.52516168]\n",
            " [-1.73147057  0.72800043  2.14208585 ...  0.40986912  1.14822479\n",
            "   0.39601425]\n",
            " [-1.73108373  0.72800043  0.83252968 ...  0.40986912 -0.58777943\n",
            "  -2.52516168]\n",
            " ...\n",
            " [ 1.73108373  0.72800043 -0.47702649 ...  0.40986912 -0.58777943\n",
            "   0.39601425]\n",
            " [ 1.73147057 -1.37362557 -0.47702649 ...  0.40986912  1.14822479\n",
            "   0.39601425]\n",
            " [ 1.7318574  -1.37362557 -0.47702649 ... -2.43980322  1.14822479\n",
            "  -2.52516168]]\n"
          ]
        }
      ]
    },
    {
      "cell_type": "code",
      "source": [
        "X = standarized_data\n",
        "Y = Y  #Already defined Y before"
      ],
      "metadata": {
        "id": "hyo0Zeh3sXJs"
      },
      "execution_count": 17,
      "outputs": []
    },
    {
      "cell_type": "code",
      "source": [
        "print(X)\n",
        "print(Y)"
      ],
      "metadata": {
        "colab": {
          "base_uri": "https://localhost:8080/"
        },
        "id": "a-SCOHOjsZyT",
        "outputId": "621883e8-dbdb-4fb4-d66b-5455a8507725"
      },
      "execution_count": 18,
      "outputs": [
        {
          "output_type": "stream",
          "name": "stdout",
          "text": [
            "[[-1.7318574  -1.37362557  2.14208585 ...  0.40986912  1.14822479\n",
            "  -2.52516168]\n",
            " [-1.73147057  0.72800043  2.14208585 ...  0.40986912  1.14822479\n",
            "   0.39601425]\n",
            " [-1.73108373  0.72800043  0.83252968 ...  0.40986912 -0.58777943\n",
            "  -2.52516168]\n",
            " ...\n",
            " [ 1.73108373  0.72800043 -0.47702649 ...  0.40986912 -0.58777943\n",
            "   0.39601425]\n",
            " [ 1.73147057 -1.37362557 -0.47702649 ...  0.40986912  1.14822479\n",
            "   0.39601425]\n",
            " [ 1.7318574  -1.37362557 -0.47702649 ... -2.43980322  1.14822479\n",
            "  -2.52516168]]\n",
            "0      -1\n",
            "1      -1\n",
            "2      -1\n",
            "3      -1\n",
            "4       1\n",
            "       ..\n",
            "8950    1\n",
            "8951   -1\n",
            "8952   -1\n",
            "8953   -1\n",
            "8954   -1\n",
            "Name: Result, Length: 8955, dtype: int64\n"
          ]
        }
      ]
    },
    {
      "cell_type": "markdown",
      "source": [
        "**Test, Train and Split**"
      ],
      "metadata": {
        "id": "XmeTfC2nsfsY"
      }
    },
    {
      "cell_type": "code",
      "source": [
        "X_train, X_test, Y_train, Y_test = train_test_split(X,Y, test_size=0.2, stratify=Y, random_state=3) #here, I have taken random_state as 3"
      ],
      "metadata": {
        "id": "LUJnafnXscja"
      },
      "execution_count": 19,
      "outputs": []
    },
    {
      "cell_type": "code",
      "source": [
        "print(X.shape, X_train.shape, X_test.shape)"
      ],
      "metadata": {
        "colab": {
          "base_uri": "https://localhost:8080/"
        },
        "id": "lxQwYvpWskPo",
        "outputId": "93b57a4b-1524-4939-bca0-beceb27ac653"
      },
      "execution_count": 20,
      "outputs": [
        {
          "output_type": "stream",
          "name": "stdout",
          "text": [
            "(8955, 31) (7164, 31) (1791, 31)\n"
          ]
        }
      ]
    },
    {
      "cell_type": "markdown",
      "source": [
        "**Training the model**"
      ],
      "metadata": {
        "id": "ozbXQDGYso0V"
      }
    },
    {
      "cell_type": "code",
      "source": [
        "classifier = svm.SVC(kernel='linear')"
      ],
      "metadata": {
        "id": "zo3od0xIsmdP"
      },
      "execution_count": 21,
      "outputs": []
    },
    {
      "cell_type": "code",
      "source": [
        "#Training the SVM (Support Vector Machine) Classifier\n",
        "classifier.fit(X_train, Y_train)"
      ],
      "metadata": {
        "colab": {
          "base_uri": "https://localhost:8080/"
        },
        "id": "xH3g-qETsswR",
        "outputId": "f328beb4-bc0b-45fc-a871-497ef0b1781f"
      },
      "execution_count": 22,
      "outputs": [
        {
          "output_type": "execute_result",
          "data": {
            "text/plain": [
              "SVC(kernel='linear')"
            ]
          },
          "metadata": {},
          "execution_count": 22
        }
      ]
    },
    {
      "cell_type": "markdown",
      "source": [
        "**Model Evaluation**"
      ],
      "metadata": {
        "id": "aBfA_BlSsxzg"
      }
    },
    {
      "cell_type": "code",
      "source": [
        "#Accuracy Score\n",
        "X_train_prediction = classifier.predict(X_train)\n",
        "training_data_accuracy = accuracy_score(X_train_prediction, Y_train)"
      ],
      "metadata": {
        "id": "j_War9dWsuu7"
      },
      "execution_count": 23,
      "outputs": []
    },
    {
      "cell_type": "code",
      "source": [
        "print(\"The accuracy of the model with training dataset: \",training_data_accuracy)"
      ],
      "metadata": {
        "colab": {
          "base_uri": "https://localhost:8080/"
        },
        "id": "qem5RVCgs1eg",
        "outputId": "64d404ec-be9f-4228-df44-caf9e3addd32"
      },
      "execution_count": 24,
      "outputs": [
        {
          "output_type": "stream",
          "name": "stdout",
          "text": [
            "The accuracy of the model with training dataset:  0.9302065884980458\n"
          ]
        }
      ]
    },
    {
      "cell_type": "code",
      "source": [
        "#Accuracy of the test data\n",
        "X_test_prediction = classifier.predict(X_test)\n",
        "test_data_accuracy = accuracy_score(X_test_prediction, Y_test)"
      ],
      "metadata": {
        "id": "7P64W0rns4J5"
      },
      "execution_count": 25,
      "outputs": []
    },
    {
      "cell_type": "code",
      "source": [
        "print(\"The accuracy of the model with test dataset: \", test_data_accuracy)"
      ],
      "metadata": {
        "colab": {
          "base_uri": "https://localhost:8080/"
        },
        "id": "G1alBsv_s6vo",
        "outputId": "cf209cd9-ead4-4b35-d668-c23136eb58d3"
      },
      "execution_count": 26,
      "outputs": [
        {
          "output_type": "stream",
          "name": "stdout",
          "text": [
            "The accuracy of the model with test dataset:  0.9257398101619208\n"
          ]
        }
      ]
    },
    {
      "cell_type": "markdown",
      "source": [
        "**Making a Predictive Model**"
      ],
      "metadata": {
        "id": "xwlXgzzCs-0u"
      }
    },
    {
      "cell_type": "code",
      "source": [
        "input_data = (21338,1,1,1,1,1,1,-1,1,-1,1,1,1,1,0,0,1,1,1,0,1,1,1,1,1,1,1,1,-1,0,1)\n",
        "\n",
        "#changing the input_data to numpy array\n",
        "input_data_as_numpy_array = np.asarray(input_data)\n",
        "\n",
        "#reshape the array as we are predicting for one instance\n",
        "input_data_reshaped = input_data_as_numpy_array.reshape(1,-1)\n",
        "\n",
        "#standarized the input data\n",
        "std_data = scaler.transform(input_data_reshaped)\n",
        "# print(std_data)\n",
        "\n",
        "prediction = classifier.predict(std_data)\n",
        "print(prediction)\n",
        "\n",
        "if (prediction[0]== 0):\n",
        "  print(\"The website is suspicious\")\n",
        "elif (prediction[0]== 1):\n",
        "  print(\"The website is legitimate\")\n",
        "else:\n",
        "  print(\"The website is phishing\")"
      ],
      "metadata": {
        "colab": {
          "base_uri": "https://localhost:8080/"
        },
        "id": "vgCbSofgs8nW",
        "outputId": "66a1bc90-a608-40c1-b649-a6574f1a4bd7"
      },
      "execution_count": 27,
      "outputs": [
        {
          "output_type": "stream",
          "name": "stdout",
          "text": [
            "[1]\n",
            "The website is legitimate\n"
          ]
        },
        {
          "output_type": "stream",
          "name": "stderr",
          "text": [
            "/usr/local/lib/python3.7/dist-packages/sklearn/base.py:451: UserWarning: X does not have valid feature names, but StandardScaler was fitted with feature names\n",
            "  \"X does not have valid feature names, but\"\n"
          ]
        }
      ]
    },
    {
      "cell_type": "markdown",
      "source": [
        "**Saving the model**"
      ],
      "metadata": {
        "id": "UshGXFB64Ip7"
      }
    },
    {
      "cell_type": "code",
      "source": [
        "import pickle"
      ],
      "metadata": {
        "id": "FAYn_UKuvY-o"
      },
      "execution_count": 28,
      "outputs": []
    },
    {
      "cell_type": "code",
      "source": [
        "filename ='trained_model.sav'\n",
        "pickle.dump(classifier,open(filename,'wb'))"
      ],
      "metadata": {
        "id": "tMKi7FL64NlL"
      },
      "execution_count": 29,
      "outputs": []
    },
    {
      "cell_type": "code",
      "source": [
        "# Loading the saved model\n",
        "loaded_model = pickle.load(open('trained_model.sav','rb'))"
      ],
      "metadata": {
        "id": "RBLht8ps4wI-"
      },
      "execution_count": 30,
      "outputs": []
    },
    {
      "cell_type": "code",
      "source": [
        "#Loaded_model will also give the same prediction\n",
        "\n",
        "input_data = (21338,1,1,1,1,1,1,-1,1,-1,1,1,1,1,0,0,1,1,1,0,1,1,1,1,1,1,1,1,-1,0,1)\n",
        "\n",
        "#changing the input_data to numpy array\n",
        "input_data_as_numpy_array = np.asarray(input_data)\n",
        "\n",
        "#reshape the array as we are predicting for one instance\n",
        "input_data_reshaped = input_data_as_numpy_array.reshape(1,-1)\n",
        "\n",
        "#standarized the input data\n",
        "std_data = scaler.transform(input_data_reshaped)\n",
        "# print(std_data)\n",
        "\n",
        "prediction = loaded_model.predict(std_data)\n",
        "print(prediction)\n",
        "\n",
        "if (prediction[0]== 0):\n",
        "  print(\"The website is suspicious\")\n",
        "elif (prediction[0]== 1):\n",
        "  print(\"The website is legitimate\")\n",
        "else:\n",
        "  print(\"The person is phishing\")"
      ],
      "metadata": {
        "colab": {
          "base_uri": "https://localhost:8080/"
        },
        "id": "iq_shqx15PuV",
        "outputId": "1c36ab58-b074-414d-d530-027d27aca0dd"
      },
      "execution_count": 31,
      "outputs": [
        {
          "output_type": "stream",
          "name": "stdout",
          "text": [
            "[1]\n",
            "The website is legitimate\n"
          ]
        },
        {
          "output_type": "stream",
          "name": "stderr",
          "text": [
            "/usr/local/lib/python3.7/dist-packages/sklearn/base.py:451: UserWarning: X does not have valid feature names, but StandardScaler was fitted with feature names\n",
            "  \"X does not have valid feature names, but\"\n"
          ]
        }
      ]
    },
    {
      "cell_type": "code",
      "source": [
        "# X_test = X_test[features].values\n",
        "X_test_prediction.dtype"
      ],
      "metadata": {
        "colab": {
          "base_uri": "https://localhost:8080/"
        },
        "id": "PhD1gg325h7Q",
        "outputId": "ea050871-b858-465f-d873-86e8ec805e44"
      },
      "execution_count": 32,
      "outputs": [
        {
          "output_type": "execute_result",
          "data": {
            "text/plain": [
              "dtype('int64')"
            ]
          },
          "metadata": {},
          "execution_count": 32
        }
      ]
    },
    {
      "cell_type": "markdown",
      "source": [
        "# New Section"
      ],
      "metadata": {
        "id": "b_n5hId4Oyg6"
      }
    },
    {
      "cell_type": "code",
      "source": [
        "pred = classifier.predict(X_test)\n",
        "# pred[pred<0] = 0\n",
        "# submit = pd.DataFrame({'id' : testfinal['id'],'num_orders' : pred})"
      ],
      "metadata": {
        "id": "5wdGe2VSPGDP"
      },
      "execution_count": 33,
      "outputs": []
    },
    {
      "cell_type": "code",
      "source": [
        "pred[pred<0] = 0"
      ],
      "metadata": {
        "id": "9bSkoIuabRE9"
      },
      "execution_count": 34,
      "outputs": []
    },
    {
      "cell_type": "code",
      "source": [
        "submit = pd.DataFrame({'key' : phising_dataset['key'],'Result' : pred})"
      ],
      "metadata": {
        "id": "ycxU4V-Kdgw3"
      },
      "execution_count": null,
      "outputs": []
    },
    {
      "cell_type": "markdown",
      "source": [
        "**Submit the model**"
      ],
      "metadata": {
        "id": "jlkRrXkMckJO"
      }
    },
    {
      "cell_type": "code",
      "source": [
        "submit.to_csv(\"submission.csv\", index=False)"
      ],
      "metadata": {
        "id": "h9E7EqY7dj3S"
      },
      "execution_count": null,
      "outputs": []
    },
    {
      "cell_type": "code",
      "source": [
        "# Checking the description\n",
        "submit.describe()"
      ],
      "metadata": {
        "id": "LyY_YotAdnIK"
      },
      "execution_count": null,
      "outputs": []
    },
    {
      "cell_type": "code",
      "source": [
        ""
      ],
      "metadata": {
        "id": "1c-IlvBEcsUF"
      },
      "execution_count": null,
      "outputs": []
    }
  ]
}